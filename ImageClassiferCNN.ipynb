{
  "nbformat": 4,
  "nbformat_minor": 0,
  "metadata": {
    "colab": {
      "provenance": [],
      "authorship_tag": "ABX9TyOWfsJVrYaA3qmYOCuV2VxA",
      "include_colab_link": true
    },
    "kernelspec": {
      "name": "python3",
      "display_name": "Python 3"
    },
    "language_info": {
      "name": "python"
    },
    "accelerator": "GPU",
    "gpuClass": "standard"
  },
  "cells": [
    {
      "cell_type": "markdown",
      "metadata": {
        "id": "view-in-github",
        "colab_type": "text"
      },
      "source": [
        "<a href=\"https://colab.research.google.com/github/rajshah0904/ImageClassiferCNN/blob/main/ImageClassiferCNN.ipynb\" target=\"_parent\"><img src=\"https://colab.research.google.com/assets/colab-badge.svg\" alt=\"Open In Colab\"/></a>"
      ]
    },
    {
      "cell_type": "markdown",
      "source": [
        "**Loading and Normalizing the CIFAR10 Dataset**\n"
      ],
      "metadata": {
        "id": "8X8trYpQLvjC"
      }
    },
    {
      "cell_type": "code",
      "execution_count": null,
      "metadata": {
        "colab": {
          "base_uri": "https://localhost:8080/"
        },
        "id": "PplkXAAa91cg",
        "outputId": "011205d1-fbfe-4cb3-832d-63a978b4915a"
      },
      "outputs": [
        {
          "output_type": "stream",
          "name": "stdout",
          "text": [
            "Files already downloaded and verified\n",
            "Files already downloaded and verified\n"
          ]
        }
      ],
      "source": [
        "import torch\n",
        "import torchvision\n",
        "import torchvision.transforms as transforms\n",
        "\n",
        "torch.device(\"cuda\")\n",
        "\n",
        "transform = transforms.Compose([transforms.ToTensor(),\n",
        "              transforms.Normalize((0.5, 0.5, 0.5), (0.5, 0.5, 0.5))])\n",
        "\n",
        "batch_size = 4\n",
        "\n",
        "trainset = torchvision.datasets.CIFAR10(root='./data', train=True,\n",
        "                                        download=True, transform=transform)\n",
        "trainloader = torch.utils.data.DataLoader(trainset, batch_size=batch_size,\n",
        "                                          shuffle=True, num_workers=2)\n",
        "\n",
        "testset = torchvision.datasets.CIFAR10(root='./data', train=False,\n",
        "                                       download=True, transform=transform)\n",
        "testloader = torch.utils.data.DataLoader(testset, batch_size=batch_size,\n",
        "                                         shuffle=False, num_workers=2)\n",
        "\n",
        "classes = ('bird', 'cat', 'deer', 'dog', 'frog', 'horse',\n",
        "           'ship', 'plane', 'car', 'truck')\n"
      ]
    },
    {
      "cell_type": "markdown",
      "source": [
        "**Define a Convolutional Neural Network for this Dataset**"
      ],
      "metadata": {
        "id": "8XlRyTAFM0el"
      }
    },
    {
      "cell_type": "code",
      "source": [
        "import torch.nn as nn\n",
        "import torch.nn.functional as F\n",
        "\n",
        "\n",
        "class Net(nn.Module):\n",
        "    # This function initalizes the neural network\n",
        "    def __init__(self):\n",
        "        super().__init__()\n",
        "        self.conv1 = nn.Conv2d(3, 6, 5)\n",
        "        self.pool = nn.MaxPool2d(2, 2)\n",
        "        self.conv2 = nn.Conv2d(6, 16, 5)\n",
        "        self.fc1 = nn.Linear(16 * 5 * 5, 120)\n",
        "        self.fc2 = nn.Linear(120, 84)\n",
        "        self.fc3 = nn.Linear(84, 10)\n",
        "\n",
        "    # This function defines the forward propogation\n",
        "    def forward(self, x):\n",
        "        x = self.pool(F.relu(self.conv1(x)))\n",
        "        x = self.pool(F.relu(self.conv2(x)))\n",
        "        x = torch.flatten(x, 1) # flatten all dimensions except batch\n",
        "        x = F.relu(self.fc1(x))\n",
        "        x = F.relu(self.fc2(x))\n",
        "        x = self.fc3(x)\n",
        "        return x\n",
        "\n",
        "\n",
        "net = Net()"
      ],
      "metadata": {
        "id": "3V6QtlluMBks"
      },
      "execution_count": null,
      "outputs": []
    },
    {
      "cell_type": "markdown",
      "source": [
        "**Choosing Loss Function and Optimizer**\n",
        "\n"
      ],
      "metadata": {
        "id": "NDJ9xntGP959"
      }
    },
    {
      "cell_type": "code",
      "source": [
        "import torch.optim as optim\n",
        "\n",
        "#Using a Cross Entropy Loss function since we are trying to classify images into categories\n",
        "criterion = nn.CrossEntropyLoss()\n",
        "#Using Stochastic Gradient Descent to train NN\n",
        "optimizer = optim.SGD(net.parameters(), lr=0.001, momentum=0.9)"
      ],
      "metadata": {
        "id": "kUgYEPViQDhu"
      },
      "execution_count": null,
      "outputs": []
    },
    {
      "cell_type": "markdown",
      "source": [
        "**Training the CNN**"
      ],
      "metadata": {
        "id": "KLBSdhMRQkHG"
      }
    },
    {
      "cell_type": "code",
      "source": [
        "num_epochs = 4\n",
        "# Looping over the dataset multiple times to improve accuracy\n",
        "for epoch in range(num_epochs):  \n",
        "\n",
        "    running_loss = 0.0 #total loss variable\n",
        "    for i, data in enumerate(trainloader, 0):\n",
        "        # Get inputs and labels from data\n",
        "        inputs, labels = data\n",
        "\n",
        "        # Zero the parameter gradients\n",
        "        optimizer.zero_grad()\n",
        "\n",
        "        # Forward prop + Backward prop + Optimization\n",
        "        outputs = net(inputs)\n",
        "        loss = criterion(outputs, labels)\n",
        "        loss.backward()\n",
        "        optimizer.step()\n",
        "\n",
        "        # Print overall loss every 1000 batches\n",
        "        running_loss += loss.item()\n",
        "        if i % 2000 == 1999:    # print every 2000 mini-batches\n",
        "            print(f'[{epoch + 1}, {i + 1}] loss: {running_loss / 2000:.3f}')\n",
        "            running_loss = 0.0\n",
        "\n",
        "print('Finished Training')"
      ],
      "metadata": {
        "id": "BSib5bedQpxc",
        "colab": {
          "base_uri": "https://localhost:8080/"
        },
        "outputId": "c759e523-1fe7-4b7b-9c48-54bee73ff48f"
      },
      "execution_count": 10,
      "outputs": [
        {
          "output_type": "stream",
          "name": "stdout",
          "text": [
            "[1, 2000] loss: 1.496\n",
            "[1, 4000] loss: 1.448\n",
            "[1, 6000] loss: 1.405\n",
            "[1, 8000] loss: 1.386\n",
            "[1, 10000] loss: 1.344\n",
            "[1, 12000] loss: 1.345\n",
            "[2, 2000] loss: 1.263\n",
            "[2, 4000] loss: 1.243\n",
            "[2, 6000] loss: 1.232\n",
            "[2, 8000] loss: 1.230\n",
            "[2, 10000] loss: 1.248\n",
            "[2, 12000] loss: 1.195\n",
            "[3, 2000] loss: 1.142\n",
            "[3, 4000] loss: 1.129\n",
            "[3, 6000] loss: 1.152\n",
            "[3, 8000] loss: 1.127\n",
            "[3, 10000] loss: 1.130\n",
            "[3, 12000] loss: 1.134\n",
            "[4, 2000] loss: 1.037\n",
            "[4, 4000] loss: 1.054\n",
            "[4, 6000] loss: 1.063\n",
            "[4, 8000] loss: 1.048\n",
            "[4, 10000] loss: 1.055\n",
            "[4, 12000] loss: 1.093\n",
            "Finished Training\n"
          ]
        }
      ]
    },
    {
      "cell_type": "markdown",
      "source": [
        "**Test CNN Model**"
      ],
      "metadata": {
        "id": "EBKzkUCdU502"
      }
    },
    {
      "cell_type": "code",
      "source": [
        "#This code snippet calculates overall accuracy of model at 60%\n",
        "correct = 0\n",
        "total = 0\n",
        "with torch.no_grad():\n",
        "    for data in testloader:\n",
        "        images, labels = data\n",
        "        outputs = net(images)\n",
        "        _, predicted = torch.max(outputs.data, 1)\n",
        "        total += labels.size(0)\n",
        "        correct += (predicted == labels).sum().item()\n",
        "\n",
        "print(f'Accuracy of the network on the 10000 test images: {100 * correct // total} %')"
      ],
      "metadata": {
        "colab": {
          "base_uri": "https://localhost:8080/"
        },
        "id": "VtOsK0VlXE0f",
        "outputId": "885145e6-4f7a-4165-b394-62252690296e"
      },
      "execution_count": 13,
      "outputs": [
        {
          "output_type": "stream",
          "name": "stderr",
          "text": [
            "Exception ignored in: Exception ignored in: <function _MultiProcessingDataLoaderIter.__del__ at 0x7f3fc1448280><function _MultiProcessingDataLoaderIter.__del__ at 0x7f3fc1448280>\n",
            "Traceback (most recent call last):\n",
            "  File \"/usr/local/lib/python3.9/dist-packages/torch/utils/data/dataloader.py\", line 1466, in __del__\n",
            "\n",
            "Traceback (most recent call last):\n",
            "      File \"/usr/local/lib/python3.9/dist-packages/torch/utils/data/dataloader.py\", line 1466, in __del__\n",
            "self._shutdown_workers()    \n",
            "self._shutdown_workers()  File \"/usr/local/lib/python3.9/dist-packages/torch/utils/data/dataloader.py\", line 1449, in _shutdown_workers\n",
            "\n",
            "      File \"/usr/local/lib/python3.9/dist-packages/torch/utils/data/dataloader.py\", line 1449, in _shutdown_workers\n",
            "    if w.is_alive():\n",
            "  File \"/usr/lib/python3.9/multiprocessing/process.py\", line 160, in is_alive\n",
            "    if w.is_alive():\n",
            "assert self._parent_pid == os.getpid(), 'can only test a child process'  File \"/usr/lib/python3.9/multiprocessing/process.py\", line 160, in is_alive\n",
            "    \n",
            "AssertionErrorassert self._parent_pid == os.getpid(), 'can only test a child process': \n",
            "AssertionErrorcan only test a child process\n",
            ": can only test a child process\n"
          ]
        },
        {
          "output_type": "stream",
          "name": "stdout",
          "text": [
            "Accuracy of the network on the 10000 test images: 60 %\n"
          ]
        }
      ]
    },
    {
      "cell_type": "code",
      "source": [
        "#Tests model accuracy for each class in dataset\n",
        "correct_pred = {classname: 0 for classname in classes}\n",
        "total_pred = {classname: 0 for classname in classes}\n",
        "\n",
        "with torch.no_grad():\n",
        "    for data in testloader:\n",
        "        images, labels = data\n",
        "        outputs = net(images)\n",
        "        _, predictions = torch.max(outputs, 1)\n",
        "        # collect the correct predictions for each class\n",
        "        for label, prediction in zip(labels, predictions):\n",
        "            if label == prediction:\n",
        "                correct_pred[classes[label]] += 1\n",
        "            total_pred[classes[label]] += 1\n",
        "\n",
        "# Prints accuracy for each class\n",
        "for classname, correct_count in correct_pred.items():\n",
        "    accuracy = 100 * float(correct_count) / total_pred[classname]\n",
        "    print(f'Accuracy for class: {classname:5s} is {accuracy:.1f} %')"
      ],
      "metadata": {
        "colab": {
          "base_uri": "https://localhost:8080/"
        },
        "id": "0ep2UVu8XqUm",
        "outputId": "c8dd6795-31da-418f-9b4f-36a753694e85"
      },
      "execution_count": 14,
      "outputs": [
        {
          "output_type": "stream",
          "name": "stderr",
          "text": [
            "Exception ignored in: <function _MultiProcessingDataLoaderIter.__del__ at 0x7f3fc1448280>\n",
            "Traceback (most recent call last):\n",
            "  File \"/usr/local/lib/python3.9/dist-packages/torch/utils/data/dataloader.py\", line 1466, in __del__\n",
            "self._shutdown_workers()\n",
            "\n",
            "if w.is_alive():      File \"/usr/local/lib/python3.9/dist-packages/torch/utils/data/dataloader.py\", line 1449, in _shutdown_workers\n",
            "      File \"/usr/lib/python3.9/multiprocessing/process.py\", line 160, in is_alive\n",
            "    assert self._parent_pid == os.getpid(), 'can only test a child process'\n",
            "AssertionError: Exception ignored in: can only test a child process<function _MultiProcessingDataLoaderIter.__del__ at 0x7f3fc1448280>\n",
            "\n",
            "Traceback (most recent call last):\n",
            "  File \"/usr/local/lib/python3.9/dist-packages/torch/utils/data/dataloader.py\", line 1466, in __del__\n",
            "    self._shutdown_workers()\n",
            "  File \"/usr/local/lib/python3.9/dist-packages/torch/utils/data/dataloader.py\", line 1449, in _shutdown_workers\n",
            "    if w.is_alive():\n",
            "  File \"/usr/lib/python3.9/multiprocessing/process.py\", line 160, in is_alive\n",
            "    assert self._parent_pid == os.getpid(), 'can only test a child process'\n",
            "AssertionError: can only test a child process\n"
          ]
        },
        {
          "output_type": "stream",
          "name": "stdout",
          "text": [
            "Accuracy for class: bird  is 66.5 %\n",
            "Accuracy for class: cat   is 78.5 %\n",
            "Accuracy for class: deer  is 27.4 %\n",
            "Accuracy for class: dog   is 56.5 %\n",
            "Accuracy for class: frog  is 70.5 %\n",
            "Accuracy for class: horse is 38.5 %\n",
            "Accuracy for class: ship  is 56.5 %\n",
            "Accuracy for class: plane is 69.8 %\n",
            "Accuracy for class: car   is 68.2 %\n",
            "Accuracy for class: truck is 67.9 %\n"
          ]
        }
      ]
    },
    {
      "cell_type": "markdown",
      "source": [
        "**Save CNN Model**"
      ],
      "metadata": {
        "id": "-04wsxJxYVpH"
      }
    },
    {
      "cell_type": "code",
      "source": [
        "torch.save(net.state_dict(), './ImageClassiferCNN.pth')"
      ],
      "metadata": {
        "id": "X-JF1J0YYaFS"
      },
      "execution_count": 15,
      "outputs": []
    }
  ]
}